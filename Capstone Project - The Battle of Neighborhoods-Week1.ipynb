{
 "cells": [
  {
   "cell_type": "markdown",
   "metadata": {},
   "source": [
    "# Capstone Project - The Battle of Neighborhoods"
   ]
  },
  {
   "cell_type": "markdown",
   "metadata": {},
   "source": [
    "## Prospects of a Lunch Restaurant, Close to Office Areas in Seoul, Korea."
   ]
  },
  {
   "cell_type": "markdown",
   "metadata": {},
   "source": [
    "### 1. Introduction/Business Problem\n",
    "\n",
    "My friend wants to open a lunch restaurant in Seoul. He asked me for help.\n",
    "\n",
    "I decided to help him by doing some analysis in the city of Seoul.\n",
    "I offer three options:\n",
    "+ Open a restaurant near major office buildings\n",
    "+ Open fast food restaurants near the transport stations\n",
    "+ Open a restaurant in places with few restaurants to avoid competition"
   ]
  },
  {
   "cell_type": "markdown",
   "metadata": {},
   "source": [
    "### 2. Data\n",
    "I first make use of https://en.wikipedia.org/wiki/List_of_districts_of_Seoul page to scrap the table to create a data-frame.\n",
    "After that, I get coordinates of districts by using Geopy Client and prepare data."
   ]
  },
  {
   "cell_type": "code",
   "execution_count": 1,
   "metadata": {},
   "outputs": [],
   "source": [
    "import sys\n",
    "import requests\n",
    "import json\n",
    "\n",
    "import matplotlib.pyplot as plt\n",
    "import matplotlib.cm as cm\n",
    "import matplotlib.colors as colors\n",
    "\n",
    "\n",
    "import io\n",
    "from bs4 import BeautifulSoup\n",
    "import pandas as pd\n",
    "import numpy as np\n",
    "\n",
    "from sklearn.cluster import KMeans\n",
    "\n",
    "from geopy.geocoders import Nominatim\n",
    "geolocator = Nominatim(user_agent=\"Seoul_explorer\", timeout = 10)"
   ]
  },
  {
   "cell_type": "markdown",
   "metadata": {},
   "source": [
    "**Using BeautifulSoup to find Table**"
   ]
  },
  {
   "cell_type": "code",
   "execution_count": 2,
   "metadata": {},
   "outputs": [
    {
     "name": "stdout",
     "output_type": "stream",
     "text": [
      "\n",
      "Name\n",
      "Population\n",
      "Area\n",
      "Population density\n",
      "\n"
     ]
    }
   ],
   "source": [
    "response_obj = requests.get('https://en.wikipedia.org/wiki/List_of_districts_of_Seoul').text\n",
    "soup = BeautifulSoup(response_obj,'lxml')\n",
    "Districts_Seoul_Table = soup.find('table', {'class':'wikitable sortable'})\n",
    "print(Districts_Seoul_Table.tr.text)"
   ]
  },
  {
   "cell_type": "markdown",
   "metadata": {},
   "source": [
    "**Saving the data what I need**"
   ]
  },
  {
   "cell_type": "code",
   "execution_count": 4,
   "metadata": {},
   "outputs": [],
   "source": [
    "Name = []\n",
    "Population =[]\n",
    "Area = []\n",
    "Popdensity = []\n",
    "\n",
    "for tr in Districts_Seoul_Table.find_all('tr'):\n",
    "    i = 0\n",
    "    for tds in tr.find_all('td'):\n",
    "        if i == 0:\n",
    "            Name.append(tds.text[:-1])\n",
    "        if i == 1:\n",
    "            Population.append(tds.text[:-1])\n",
    "        if i == 2:\n",
    "            Area.append(tds.text[:-1])\n",
    "        if i == 3:\n",
    "            Popdensity.append(tds.text[:-1])\n",
    "        i = i + 1\n",
    "\n",
    "#A = np.column_stack((Name, Population, Area, Popdensity))\n",
    "df = pd.DataFrame({\"Name\": Name, \"Population\": Population, \"Area\": Area, \"Population_density\": Popdensity})\n",
    "df.to_csv('Seoul.csv', index = False)"
   ]
  },
  {
   "cell_type": "code",
   "execution_count": 5,
   "metadata": {},
   "outputs": [
    {
     "data": {
      "text/html": [
       "<div>\n",
       "<style scoped>\n",
       "    .dataframe tbody tr th:only-of-type {\n",
       "        vertical-align: middle;\n",
       "    }\n",
       "\n",
       "    .dataframe tbody tr th {\n",
       "        vertical-align: top;\n",
       "    }\n",
       "\n",
       "    .dataframe thead th {\n",
       "        text-align: right;\n",
       "    }\n",
       "</style>\n",
       "<table border=\"1\" class=\"dataframe\">\n",
       "  <thead>\n",
       "    <tr style=\"text-align: right;\">\n",
       "      <th></th>\n",
       "      <th>Name</th>\n",
       "      <th>Population</th>\n",
       "      <th>Area</th>\n",
       "      <th>Population_density</th>\n",
       "    </tr>\n",
       "  </thead>\n",
       "  <tbody>\n",
       "    <tr>\n",
       "      <td>0</td>\n",
       "      <td>Dobong-gu (도봉구; 道峰區)</td>\n",
       "      <td>355,712</td>\n",
       "      <td>20.70 km²</td>\n",
       "      <td>17184/km²</td>\n",
       "    </tr>\n",
       "    <tr>\n",
       "      <td>1</td>\n",
       "      <td>Dongdaemun-gu (동대문구; 東大門區)</td>\n",
       "      <td>376,319</td>\n",
       "      <td>14.21 km²</td>\n",
       "      <td>26483/km²</td>\n",
       "    </tr>\n",
       "    <tr>\n",
       "      <td>2</td>\n",
       "      <td>Dongjak-gu (동작구; 銅雀區)</td>\n",
       "      <td>419,261</td>\n",
       "      <td>16.35 km²</td>\n",
       "      <td>25643/km²</td>\n",
       "    </tr>\n",
       "    <tr>\n",
       "      <td>3</td>\n",
       "      <td>Eunpyeong-gu (은평구; 恩平區)</td>\n",
       "      <td>503,243</td>\n",
       "      <td>29.70 km²</td>\n",
       "      <td>16944/km²</td>\n",
       "    </tr>\n",
       "    <tr>\n",
       "      <td>4</td>\n",
       "      <td>Gangbuk-gu (강북구; 江北區)</td>\n",
       "      <td>338,410</td>\n",
       "      <td>23.60 km²</td>\n",
       "      <td>14339/km²</td>\n",
       "    </tr>\n",
       "  </tbody>\n",
       "</table>\n",
       "</div>"
      ],
      "text/plain": [
       "                         Name Population       Area Population_density\n",
       "0        Dobong-gu (도봉구; 道峰區)    355,712  20.70 km²          17184/km²\n",
       "1  Dongdaemun-gu (동대문구; 東大門區)    376,319  14.21 km²          26483/km²\n",
       "2       Dongjak-gu (동작구; 銅雀區)    419,261  16.35 km²          25643/km²\n",
       "3     Eunpyeong-gu (은평구; 恩平區)    503,243  29.70 km²          16944/km²\n",
       "4       Gangbuk-gu (강북구; 江北區)    338,410  23.60 km²          14339/km²"
      ]
     },
     "execution_count": 5,
     "metadata": {},
     "output_type": "execute_result"
    }
   ],
   "source": [
    "import pandas as pd\n",
    "df = pd.read_csv('Seoul.csv')\n",
    "df.head()"
   ]
  },
  {
   "cell_type": "markdown",
   "metadata": {},
   "source": [
    "**Dropping Korean Character in Table**"
   ]
  },
  {
   "cell_type": "code",
   "execution_count": 6,
   "metadata": {},
   "outputs": [
    {
     "data": {
      "text/html": [
       "<div>\n",
       "<style scoped>\n",
       "    .dataframe tbody tr th:only-of-type {\n",
       "        vertical-align: middle;\n",
       "    }\n",
       "\n",
       "    .dataframe tbody tr th {\n",
       "        vertical-align: top;\n",
       "    }\n",
       "\n",
       "    .dataframe thead th {\n",
       "        text-align: right;\n",
       "    }\n",
       "</style>\n",
       "<table border=\"1\" class=\"dataframe\">\n",
       "  <thead>\n",
       "    <tr style=\"text-align: right;\">\n",
       "      <th></th>\n",
       "      <th>Name</th>\n",
       "      <th>Population</th>\n",
       "      <th>Area</th>\n",
       "      <th>Population_density</th>\n",
       "    </tr>\n",
       "  </thead>\n",
       "  <tbody>\n",
       "    <tr>\n",
       "      <td>0</td>\n",
       "      <td>Dobong-gu</td>\n",
       "      <td>355,712</td>\n",
       "      <td>20.70 km²</td>\n",
       "      <td>17184/km²</td>\n",
       "    </tr>\n",
       "    <tr>\n",
       "      <td>1</td>\n",
       "      <td>Dongdaemun-gu</td>\n",
       "      <td>376,319</td>\n",
       "      <td>14.21 km²</td>\n",
       "      <td>26483/km²</td>\n",
       "    </tr>\n",
       "    <tr>\n",
       "      <td>2</td>\n",
       "      <td>Dongjak-gu</td>\n",
       "      <td>419,261</td>\n",
       "      <td>16.35 km²</td>\n",
       "      <td>25643/km²</td>\n",
       "    </tr>\n",
       "    <tr>\n",
       "      <td>3</td>\n",
       "      <td>Eunpyeong-gu</td>\n",
       "      <td>503,243</td>\n",
       "      <td>29.70 km²</td>\n",
       "      <td>16944/km²</td>\n",
       "    </tr>\n",
       "    <tr>\n",
       "      <td>4</td>\n",
       "      <td>Gangbuk-gu</td>\n",
       "      <td>338,410</td>\n",
       "      <td>23.60 km²</td>\n",
       "      <td>14339/km²</td>\n",
       "    </tr>\n",
       "  </tbody>\n",
       "</table>\n",
       "</div>"
      ],
      "text/plain": [
       "            Name Population       Area Population_density\n",
       "0      Dobong-gu    355,712  20.70 km²          17184/km²\n",
       "1  Dongdaemun-gu    376,319  14.21 km²          26483/km²\n",
       "2     Dongjak-gu    419,261  16.35 km²          25643/km²\n",
       "3   Eunpyeong-gu    503,243  29.70 km²          16944/km²\n",
       "4     Gangbuk-gu    338,410  23.60 km²          14339/km²"
      ]
     },
     "execution_count": 6,
     "metadata": {},
     "output_type": "execute_result"
    }
   ],
   "source": [
    "df[['Name','Korean_language1', 'Korean_language2']] = df['Name'].str.split(' ',expand=True)\n",
    "df.drop(['Korean_language1'], axis=1, inplace=True)\n",
    "df.drop(['Korean_language2'], axis=1, inplace=True)\n",
    "df.head()"
   ]
  },
  {
   "cell_type": "markdown",
   "metadata": {},
   "source": [
    "**Getting coordinates of districts by using Geopy Client and saving**"
   ]
  },
  {
   "cell_type": "code",
   "execution_count": 15,
   "metadata": {},
   "outputs": [
    {
     "data": {
      "text/html": [
       "<div>\n",
       "<style scoped>\n",
       "    .dataframe tbody tr th:only-of-type {\n",
       "        vertical-align: middle;\n",
       "    }\n",
       "\n",
       "    .dataframe tbody tr th {\n",
       "        vertical-align: top;\n",
       "    }\n",
       "\n",
       "    .dataframe thead th {\n",
       "        text-align: right;\n",
       "    }\n",
       "</style>\n",
       "<table border=\"1\" class=\"dataframe\">\n",
       "  <thead>\n",
       "    <tr style=\"text-align: right;\">\n",
       "      <th></th>\n",
       "      <th>Name</th>\n",
       "      <th>Population</th>\n",
       "      <th>Area</th>\n",
       "      <th>Population_density</th>\n",
       "      <th>Latitude</th>\n",
       "      <th>Longitude</th>\n",
       "    </tr>\n",
       "  </thead>\n",
       "  <tbody>\n",
       "    <tr>\n",
       "      <td>0</td>\n",
       "      <td>Dobong-gu</td>\n",
       "      <td>355,712</td>\n",
       "      <td>20.70 km²</td>\n",
       "      <td>17184/km²</td>\n",
       "      <td>37.6686</td>\n",
       "      <td>127.0466</td>\n",
       "    </tr>\n",
       "    <tr>\n",
       "      <td>1</td>\n",
       "      <td>Dongdaemun-gu</td>\n",
       "      <td>376,319</td>\n",
       "      <td>14.21 km²</td>\n",
       "      <td>26483/km²</td>\n",
       "      <td>37.5742</td>\n",
       "      <td>127.0395</td>\n",
       "    </tr>\n",
       "    <tr>\n",
       "      <td>2</td>\n",
       "      <td>Dongjak-gu</td>\n",
       "      <td>419,261</td>\n",
       "      <td>16.35 km²</td>\n",
       "      <td>25643/km²</td>\n",
       "      <td>37.5121</td>\n",
       "      <td>126.9395</td>\n",
       "    </tr>\n",
       "    <tr>\n",
       "      <td>3</td>\n",
       "      <td>Eunpyeong-gu</td>\n",
       "      <td>503,243</td>\n",
       "      <td>29.70 km²</td>\n",
       "      <td>16944/km²</td>\n",
       "      <td>37.6024</td>\n",
       "      <td>126.9293</td>\n",
       "    </tr>\n",
       "    <tr>\n",
       "      <td>4</td>\n",
       "      <td>Gangbuk-gu</td>\n",
       "      <td>338,410</td>\n",
       "      <td>23.60 km²</td>\n",
       "      <td>14339/km²</td>\n",
       "      <td>37.6395</td>\n",
       "      <td>127.0255</td>\n",
       "    </tr>\n",
       "  </tbody>\n",
       "</table>\n",
       "</div>"
      ],
      "text/plain": [
       "            Name Population       Area Population_density  Latitude  Longitude\n",
       "0      Dobong-gu    355,712  20.70 km²          17184/km²   37.6686   127.0466\n",
       "1  Dongdaemun-gu    376,319  14.21 km²          26483/km²   37.5742   127.0395\n",
       "2     Dongjak-gu    419,261  16.35 km²          25643/km²   37.5121   126.9395\n",
       "3   Eunpyeong-gu    503,243  29.70 km²          16944/km²   37.6024   126.9293\n",
       "4     Gangbuk-gu    338,410  23.60 km²          14339/km²   37.6395   127.0255"
      ]
     },
     "execution_count": 15,
     "metadata": {},
     "output_type": "execute_result"
    }
   ],
   "source": [
    "Latitude = []\n",
    "Longitude = []\n",
    "\n",
    "for i in df['Name']:\n",
    "    location = geolocator.geocode(i)\n",
    "    Latitude.append(location.latitude)\n",
    "    Longitude.append(location.longitude)\n",
    "    \n",
    "df['Latitude'] = Latitude\n",
    "df['Longitude'] = Longitude\n",
    "df.head()\n",
    "\n",
    "df.to_csv('Seoul_co.csv', index = False)"
   ]
  }
 ],
 "metadata": {
  "kernelspec": {
   "display_name": "Python 3",
   "language": "python",
   "name": "python3"
  },
  "language_info": {
   "codemirror_mode": {
    "name": "ipython",
    "version": 3
   },
   "file_extension": ".py",
   "mimetype": "text/x-python",
   "name": "python",
   "nbconvert_exporter": "python",
   "pygments_lexer": "ipython3",
   "version": "3.7.4"
  }
 },
 "nbformat": 4,
 "nbformat_minor": 2
}
