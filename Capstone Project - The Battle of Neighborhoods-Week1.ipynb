{
 "cells": [
  {
   "cell_type": "markdown",
   "metadata": {},
   "source": [
    "# Capstone Project - The Battle of Neighborhoods"
   ]
  },
  {
   "cell_type": "markdown",
   "metadata": {},
   "source": [
    "## Prospects of a Lunch Restaurant in Seoul, Korea."
   ]
  },
  {
   "cell_type": "markdown",
   "metadata": {},
   "source": [
    "### 1. Introduction/Business Problem\n",
    "\n",
    "My friend wants to open a lunch restaurant in Seoul. He asked me for help.\n",
    "\n",
    "I decided to help him by doing some analysis in the city of Seoul.\n",
    "I offer three options:\n",
    "+ Open a restaurant near major office buildings\n",
    "+ Open fast food restaurants near the transport stations\n",
    "+ Open a restaurant in places with few restaurants to avoid competition\n",
    "\n",
    "Target Audiences:\n",
    "+ People who want to open a restaurant like my friend or maybe a cafe, they can see the pros and cons of the locations.\n",
    "+ Tourists looking for restaurants in Seoul.\n",
    "+ Someone wants to understand a piece of data science work."
   ]
  },
  {
   "cell_type": "markdown",
   "metadata": {},
   "source": [
    "### 2. Data\n",
    "\n",
    "I make use of https://en.wikipedia.org/wiki/List_of_districts_of_Seoul page to scrap the table to create a data-frame.\n",
    "\n",
    "After that, I get coordinates of districts by using Geopy Client and prepare data.\n",
    "\n",
    "I will first mark the locations of the districts with Foursquare and then give the next analysis."
   ]
  },
  {
   "cell_type": "code",
   "execution_count": 1,
   "metadata": {},
   "outputs": [],
   "source": [
    "import sys\n",
    "import requests\n",
    "import json\n",
    "\n",
    "import matplotlib.pyplot as plt\n",
    "import matplotlib.cm as cm\n",
    "import matplotlib.colors as colors\n",
    "\n",
    "\n",
    "import io\n",
    "from bs4 import BeautifulSoup\n",
    "import pandas as pd\n",
    "import numpy as np\n",
    "\n",
    "from sklearn.cluster import KMeans\n",
    "\n",
    "from geopy.geocoders import Nominatim\n",
    "geolocator = Nominatim(user_agent=\"Seoul_explorer\", timeout = 10)"
   ]
  },
  {
   "cell_type": "markdown",
   "metadata": {},
   "source": [
    "**Using BeautifulSoup to find Table**"
   ]
  },
  {
   "cell_type": "code",
   "execution_count": 2,
   "metadata": {},
   "outputs": [
    {
     "name": "stdout",
     "output_type": "stream",
     "text": [
      "\n",
      "Name\n",
      "Population\n",
      "Area\n",
      "Population density\n",
      "\n"
     ]
    }
   ],
   "source": [
    "response_obj = requests.get('https://en.wikipedia.org/wiki/List_of_districts_of_Seoul').text\n",
    "soup = BeautifulSoup(response_obj,'lxml')\n",
    "Districts_Seoul_Table = soup.find('table', {'class':'wikitable sortable'})\n",
    "print(Districts_Seoul_Table.tr.text)"
   ]
  },
  {
   "cell_type": "markdown",
   "metadata": {},
   "source": [
    "**Saving the data what I need**"
   ]
  },
  {
   "cell_type": "code",
   "execution_count": 3,
   "metadata": {},
   "outputs": [],
   "source": [
    "Name = []\n",
    "Population =[]\n",
    "Area = []\n",
    "Popdensity = []\n",
    "\n",
    "for tr in Districts_Seoul_Table.find_all('tr'):\n",
    "    i = 0\n",
    "    for tds in tr.find_all('td'):\n",
    "        if i == 0:\n",
    "            Name.append(tds.text[:-1])\n",
    "        if i == 1:\n",
    "            Population.append(tds.text[:-1])\n",
    "        if i == 2:\n",
    "            Area.append(tds.text[:-1])\n",
    "        if i == 3:\n",
    "            Popdensity.append(tds.text[:-1])\n",
    "        i = i + 1\n",
    "\n",
    "#A = np.column_stack((Name, Population, Area, Popdensity))\n",
    "df = pd.DataFrame({\"Name\": Name, \"Population\": Population, \"Area\": Area, \"Population_density\": Popdensity})\n",
    "df.to_csv('Seoul.csv', index = False)"
   ]
  },
  {
   "cell_type": "code",
   "execution_count": 4,
   "metadata": {},
   "outputs": [
    {
     "data": {
      "text/html": [
       "<div>\n",
       "<style scoped>\n",
       "    .dataframe tbody tr th:only-of-type {\n",
       "        vertical-align: middle;\n",
       "    }\n",
       "\n",
       "    .dataframe tbody tr th {\n",
       "        vertical-align: top;\n",
       "    }\n",
       "\n",
       "    .dataframe thead th {\n",
       "        text-align: right;\n",
       "    }\n",
       "</style>\n",
       "<table border=\"1\" class=\"dataframe\">\n",
       "  <thead>\n",
       "    <tr style=\"text-align: right;\">\n",
       "      <th></th>\n",
       "      <th>Name</th>\n",
       "      <th>Population</th>\n",
       "      <th>Area</th>\n",
       "      <th>Population_density</th>\n",
       "    </tr>\n",
       "  </thead>\n",
       "  <tbody>\n",
       "    <tr>\n",
       "      <td>0</td>\n",
       "      <td>Dobong-gu (도봉구; 道峰區)</td>\n",
       "      <td>355,712</td>\n",
       "      <td>20.70 km²</td>\n",
       "      <td>17184/km²</td>\n",
       "    </tr>\n",
       "    <tr>\n",
       "      <td>1</td>\n",
       "      <td>Dongdaemun-gu (동대문구; 東大門區)</td>\n",
       "      <td>376,319</td>\n",
       "      <td>14.21 km²</td>\n",
       "      <td>26483/km²</td>\n",
       "    </tr>\n",
       "    <tr>\n",
       "      <td>2</td>\n",
       "      <td>Dongjak-gu (동작구; 銅雀區)</td>\n",
       "      <td>419,261</td>\n",
       "      <td>16.35 km²</td>\n",
       "      <td>25643/km²</td>\n",
       "    </tr>\n",
       "    <tr>\n",
       "      <td>3</td>\n",
       "      <td>Eunpyeong-gu (은평구; 恩平區)</td>\n",
       "      <td>503,243</td>\n",
       "      <td>29.70 km²</td>\n",
       "      <td>16944/km²</td>\n",
       "    </tr>\n",
       "    <tr>\n",
       "      <td>4</td>\n",
       "      <td>Gangbuk-gu (강북구; 江北區)</td>\n",
       "      <td>338,410</td>\n",
       "      <td>23.60 km²</td>\n",
       "      <td>14339/km²</td>\n",
       "    </tr>\n",
       "  </tbody>\n",
       "</table>\n",
       "</div>"
      ],
      "text/plain": [
       "                         Name Population       Area Population_density\n",
       "0        Dobong-gu (도봉구; 道峰區)    355,712  20.70 km²          17184/km²\n",
       "1  Dongdaemun-gu (동대문구; 東大門區)    376,319  14.21 km²          26483/km²\n",
       "2       Dongjak-gu (동작구; 銅雀區)    419,261  16.35 km²          25643/km²\n",
       "3     Eunpyeong-gu (은평구; 恩平區)    503,243  29.70 km²          16944/km²\n",
       "4       Gangbuk-gu (강북구; 江北區)    338,410  23.60 km²          14339/km²"
      ]
     },
     "execution_count": 4,
     "metadata": {},
     "output_type": "execute_result"
    }
   ],
   "source": [
    "import pandas as pd\n",
    "df = pd.read_csv('Seoul.csv')\n",
    "df.head()"
   ]
  },
  {
   "cell_type": "markdown",
   "metadata": {},
   "source": [
    "**Dropping Korean Character in Table**"
   ]
  },
  {
   "cell_type": "code",
   "execution_count": 5,
   "metadata": {},
   "outputs": [
    {
     "data": {
      "text/html": [
       "<div>\n",
       "<style scoped>\n",
       "    .dataframe tbody tr th:only-of-type {\n",
       "        vertical-align: middle;\n",
       "    }\n",
       "\n",
       "    .dataframe tbody tr th {\n",
       "        vertical-align: top;\n",
       "    }\n",
       "\n",
       "    .dataframe thead th {\n",
       "        text-align: right;\n",
       "    }\n",
       "</style>\n",
       "<table border=\"1\" class=\"dataframe\">\n",
       "  <thead>\n",
       "    <tr style=\"text-align: right;\">\n",
       "      <th></th>\n",
       "      <th>Name</th>\n",
       "      <th>Population</th>\n",
       "      <th>Area</th>\n",
       "      <th>Population_density</th>\n",
       "    </tr>\n",
       "  </thead>\n",
       "  <tbody>\n",
       "    <tr>\n",
       "      <td>0</td>\n",
       "      <td>Dobong-gu</td>\n",
       "      <td>355,712</td>\n",
       "      <td>20.70 km²</td>\n",
       "      <td>17184/km²</td>\n",
       "    </tr>\n",
       "    <tr>\n",
       "      <td>1</td>\n",
       "      <td>Dongdaemun-gu</td>\n",
       "      <td>376,319</td>\n",
       "      <td>14.21 km²</td>\n",
       "      <td>26483/km²</td>\n",
       "    </tr>\n",
       "    <tr>\n",
       "      <td>2</td>\n",
       "      <td>Dongjak-gu</td>\n",
       "      <td>419,261</td>\n",
       "      <td>16.35 km²</td>\n",
       "      <td>25643/km²</td>\n",
       "    </tr>\n",
       "    <tr>\n",
       "      <td>3</td>\n",
       "      <td>Eunpyeong-gu</td>\n",
       "      <td>503,243</td>\n",
       "      <td>29.70 km²</td>\n",
       "      <td>16944/km²</td>\n",
       "    </tr>\n",
       "    <tr>\n",
       "      <td>4</td>\n",
       "      <td>Gangbuk-gu</td>\n",
       "      <td>338,410</td>\n",
       "      <td>23.60 km²</td>\n",
       "      <td>14339/km²</td>\n",
       "    </tr>\n",
       "  </tbody>\n",
       "</table>\n",
       "</div>"
      ],
      "text/plain": [
       "            Name Population       Area Population_density\n",
       "0      Dobong-gu    355,712  20.70 km²          17184/km²\n",
       "1  Dongdaemun-gu    376,319  14.21 km²          26483/km²\n",
       "2     Dongjak-gu    419,261  16.35 km²          25643/km²\n",
       "3   Eunpyeong-gu    503,243  29.70 km²          16944/km²\n",
       "4     Gangbuk-gu    338,410  23.60 km²          14339/km²"
      ]
     },
     "execution_count": 5,
     "metadata": {},
     "output_type": "execute_result"
    }
   ],
   "source": [
    "df[['Name','Korean_language1', 'Korean_language2']] = df['Name'].str.split(' ',expand=True)\n",
    "df.drop(['Korean_language1'], axis=1, inplace=True)\n",
    "df.drop(['Korean_language2'], axis=1, inplace=True)\n",
    "df.head()"
   ]
  },
  {
   "cell_type": "markdown",
   "metadata": {},
   "source": [
    "**Getting coordinates of districts by using Geopy Client and saving**"
   ]
  },
  {
   "cell_type": "code",
   "execution_count": 6,
   "metadata": {},
   "outputs": [],
   "source": [
    "Latitude = []\n",
    "Longitude = []\n",
    "\n",
    "for i in df['Name']:\n",
    "    location = geolocator.geocode(i)\n",
    "    Latitude.append(location.latitude)\n",
    "    Longitude.append(location.longitude)\n",
    "    \n",
    "df['Latitude'] = Latitude\n",
    "df['Longitude'] = Longitude\n",
    "df.head()\n",
    "\n",
    "df.to_csv('Seoul_co.csv', index = False)"
   ]
  },
  {
   "cell_type": "markdown",
   "metadata": {},
   "source": [
    "**Using Foursquare Location Data:**"
   ]
  },
  {
   "cell_type": "code",
   "execution_count": 7,
   "metadata": {},
   "outputs": [
    {
     "name": "stdout",
     "output_type": "stream",
     "text": [
      "The geograpical coordinates of Seoul are 37.564982549999996, 126.93921080358436.\n"
     ]
    }
   ],
   "source": [
    "df = pd.read_csv('Seoul_co.csv')\n",
    "\n",
    "import folium\n",
    "address = 'Seoul'\n",
    "\n",
    "Seloc = geolocator.geocode(address)\n",
    "Seoul_latitude = Seloc.latitude\n",
    "Seoul_longitude = Seloc.longitude\n",
    "print('The geograpical coordinates of Seoul are {}, {}.'.format(Seoul_latitude, Seoul_longitude))"
   ]
  },
  {
   "cell_type": "code",
   "execution_count": 8,
   "metadata": {},
   "outputs": [
    {
     "data": {
      "text/html": [
       "<div style=\"width:100%;\"><div style=\"position:relative;width:100%;height:0;padding-bottom:60%;\"><iframe src=\"about:blank\" style=\"position:absolute;width:100%;height:100%;left:0;top:0;border:none !important;\" data-html=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 onload=\"this.contentDocument.open();this.contentDocument.write(atob(this.getAttribute('data-html')));this.contentDocument.close();\" allowfullscreen webkitallowfullscreen mozallowfullscreen></iframe></div></div>"
      ],
      "text/plain": [
       "<folium.folium.Map at 0x29630002248>"
      ]
     },
     "execution_count": 8,
     "metadata": {},
     "output_type": "execute_result"
    }
   ],
   "source": [
    "map_seoul = folium.Map(location=[Seoul_latitude, Seoul_longitude], zoom_start=11)\n",
    "# add markers to map\n",
    "\n",
    "for lat, lng, label in zip(df['Latitude'], df['Longitude'], df['Name']):\n",
    "    label = folium.Popup(label, parse_html=True)\n",
    "    folium.CircleMarker(\n",
    "        [lat, lng],\n",
    "        radius=9,\n",
    "        popup=label,\n",
    "        color='magenta',\n",
    "        fill=True,\n",
    "        fill_color='#3186cc',\n",
    "        fill_opacity=0.7).add_to(map_seoul)  \n",
    "\n",
    "map_seoul"
   ]
  },
  {
   "cell_type": "markdown",
   "metadata": {},
   "source": [
    "### Foursquare ID"
   ]
  },
  {
   "cell_type": "code",
   "execution_count": null,
   "metadata": {},
   "outputs": [],
   "source": []
  },
  {
   "cell_type": "code",
   "execution_count": 10,
   "metadata": {},
   "outputs": [],
   "source": [
    "radius=1000\n",
    "LIMIT=100"
   ]
  },
  {
   "cell_type": "code",
   "execution_count": 11,
   "metadata": {},
   "outputs": [],
   "source": [
    "def getNearbyVenues(names, latitudes, longitudes, radius=500):\n",
    "    \n",
    "    venues_list=[]\n",
    "    for name, lat, lng in zip(names, latitudes, longitudes):\n",
    "        print(name)\n",
    "            \n",
    "        # create the API request URL\n",
    "        url = 'https://api.foursquare.com/v2/venues/explore?&client_id={}&client_secret={}&v={}&ll={},{}&radius={}&limit={}'.format(\n",
    "            CLIENT_ID, \n",
    "            CLIENT_SECRET, \n",
    "            VERSION, \n",
    "            lat, \n",
    "            lng, \n",
    "            radius, \n",
    "            LIMIT)\n",
    "            \n",
    "        # make the GET request\n",
    "        results = requests.get(url).json()[\"response\"]['groups'][0]['items']\n",
    "        \n",
    "        # return only relevant information for each nearby venue\n",
    "        venues_list.append([(\n",
    "            name, \n",
    "            lat, \n",
    "            lng, \n",
    "            v['venue']['name'], \n",
    "            v['venue']['location']['lat'], \n",
    "            v['venue']['location']['lng'],  \n",
    "            v['venue']['categories'][0]['name']) for v in results])\n",
    "\n",
    "    nearby_venues = pd.DataFrame([item for venue_list in venues_list for item in venue_list])\n",
    "    nearby_venues.columns = ['Neighbourhood', \n",
    "                  'Neighbourhood Latitude', \n",
    "                  'Neighbourhood Longitude', \n",
    "                  'Venue', \n",
    "                  'Venue Latitude', \n",
    "                  'Venue Longitude', \n",
    "                  'Venue Category']\n",
    "    \n",
    "    return(nearby_venues)"
   ]
  },
  {
   "cell_type": "code",
   "execution_count": 12,
   "metadata": {},
   "outputs": [
    {
     "name": "stdout",
     "output_type": "stream",
     "text": [
      "Dobong-gu\n",
      "Dongdaemun-gu\n",
      "Dongjak-gu\n",
      "Eunpyeong-gu\n",
      "Gangbuk-gu\n",
      "Gangdong-gu\n",
      "Gangnam-gu\n",
      "Gangseo-gu\n",
      "Geumcheon-gu\n",
      "Guro-gu\n",
      "Gwanak-gu\n",
      "Gwangjin-gu\n",
      "Jongno-gu\n",
      "Jung-gu\n",
      "Jungnang-gu\n",
      "Mapo-gu\n",
      "Nowon-gu\n",
      "Seocho-gu\n",
      "Seodaemun-gu\n",
      "Seongbuk-gu\n",
      "Seongdong-gu\n",
      "Songpa-gu\n",
      "Yangcheon-gu\n",
      "Yeongdeungpo-gu\n",
      "Yongsan-gu\n",
      "Seoul\n"
     ]
    }
   ],
   "source": [
    "Seoul_venues = getNearbyVenues(names=df['Name'], latitudes=df['Latitude'], longitudes=df['Longitude'])"
   ]
  },
  {
   "cell_type": "code",
   "execution_count": 13,
   "metadata": {},
   "outputs": [
    {
     "name": "stdout",
     "output_type": "stream",
     "text": [
      "(754, 7)\n"
     ]
    },
    {
     "data": {
      "text/html": [
       "<div>\n",
       "<style scoped>\n",
       "    .dataframe tbody tr th:only-of-type {\n",
       "        vertical-align: middle;\n",
       "    }\n",
       "\n",
       "    .dataframe tbody tr th {\n",
       "        vertical-align: top;\n",
       "    }\n",
       "\n",
       "    .dataframe thead th {\n",
       "        text-align: right;\n",
       "    }\n",
       "</style>\n",
       "<table border=\"1\" class=\"dataframe\">\n",
       "  <thead>\n",
       "    <tr style=\"text-align: right;\">\n",
       "      <th></th>\n",
       "      <th>Neighbourhood</th>\n",
       "      <th>Neighbourhood Latitude</th>\n",
       "      <th>Neighbourhood Longitude</th>\n",
       "      <th>Venue</th>\n",
       "      <th>Venue Latitude</th>\n",
       "      <th>Venue Longitude</th>\n",
       "      <th>Venue Category</th>\n",
       "    </tr>\n",
       "  </thead>\n",
       "  <tbody>\n",
       "    <tr>\n",
       "      <td>0</td>\n",
       "      <td>Dobong-gu</td>\n",
       "      <td>37.6686</td>\n",
       "      <td>127.0466</td>\n",
       "      <td>맥도날드 (McDonald's) (맥도날드)</td>\n",
       "      <td>37.670196</td>\n",
       "      <td>127.043726</td>\n",
       "      <td>Fast Food Restaurant</td>\n",
       "    </tr>\n",
       "    <tr>\n",
       "      <td>1</td>\n",
       "      <td>Dobong-gu</td>\n",
       "      <td>37.6686</td>\n",
       "      <td>127.0466</td>\n",
       "      <td>WAGEN COFFEE</td>\n",
       "      <td>37.666922</td>\n",
       "      <td>127.045057</td>\n",
       "      <td>Café</td>\n",
       "    </tr>\n",
       "    <tr>\n",
       "      <td>2</td>\n",
       "      <td>Dobong-gu</td>\n",
       "      <td>37.6686</td>\n",
       "      <td>127.0466</td>\n",
       "      <td>Dunkin'</td>\n",
       "      <td>37.668252</td>\n",
       "      <td>127.046433</td>\n",
       "      <td>Donut Shop</td>\n",
       "    </tr>\n",
       "    <tr>\n",
       "      <td>3</td>\n",
       "      <td>Dobong-gu</td>\n",
       "      <td>37.6686</td>\n",
       "      <td>127.0466</td>\n",
       "      <td>Baskin-Robbins</td>\n",
       "      <td>37.666314</td>\n",
       "      <td>127.046257</td>\n",
       "      <td>Ice Cream Shop</td>\n",
       "    </tr>\n",
       "    <tr>\n",
       "      <td>4</td>\n",
       "      <td>Dobong-gu</td>\n",
       "      <td>37.6686</td>\n",
       "      <td>127.0466</td>\n",
       "      <td>VIC Market (빅마켓)</td>\n",
       "      <td>37.667676</td>\n",
       "      <td>127.045963</td>\n",
       "      <td>Big Box Store</td>\n",
       "    </tr>\n",
       "  </tbody>\n",
       "</table>\n",
       "</div>"
      ],
      "text/plain": [
       "  Neighbourhood  Neighbourhood Latitude  Neighbourhood Longitude  \\\n",
       "0     Dobong-gu                 37.6686                 127.0466   \n",
       "1     Dobong-gu                 37.6686                 127.0466   \n",
       "2     Dobong-gu                 37.6686                 127.0466   \n",
       "3     Dobong-gu                 37.6686                 127.0466   \n",
       "4     Dobong-gu                 37.6686                 127.0466   \n",
       "\n",
       "                      Venue  Venue Latitude  Venue Longitude  \\\n",
       "0  맥도날드 (McDonald's) (맥도날드)       37.670196       127.043726   \n",
       "1              WAGEN COFFEE       37.666922       127.045057   \n",
       "2                   Dunkin'       37.668252       127.046433   \n",
       "3            Baskin-Robbins       37.666314       127.046257   \n",
       "4          VIC Market (빅마켓)       37.667676       127.045963   \n",
       "\n",
       "         Venue Category  \n",
       "0  Fast Food Restaurant  \n",
       "1                  Café  \n",
       "2            Donut Shop  \n",
       "3        Ice Cream Shop  \n",
       "4         Big Box Store  "
      ]
     },
     "execution_count": 13,
     "metadata": {},
     "output_type": "execute_result"
    }
   ],
   "source": [
    "print(Seoul_venues.shape)\n",
    "Seoul_venues.head()"
   ]
  }
 ],
 "metadata": {
  "kernelspec": {
   "display_name": "Python 3",
   "language": "python",
   "name": "python3"
  },
  "language_info": {
   "codemirror_mode": {
    "name": "ipython",
    "version": 3
   },
   "file_extension": ".py",
   "mimetype": "text/x-python",
   "name": "python",
   "nbconvert_exporter": "python",
   "pygments_lexer": "ipython3",
   "version": "3.7.4"
  }
 },
 "nbformat": 4,
 "nbformat_minor": 2
}
