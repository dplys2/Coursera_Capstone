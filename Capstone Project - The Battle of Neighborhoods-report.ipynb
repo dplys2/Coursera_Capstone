{
 "cells": [
  {
   "cell_type": "markdown",
   "metadata": {},
   "source": [
    "# Capstone Project - The Battle of Neighborhoods"
   ]
  },
  {
   "cell_type": "markdown",
   "metadata": {},
   "source": [
    "## Prospects of a Lunch Restaurant in Seoul, Korea."
   ]
  },
  {
   "cell_type": "markdown",
   "metadata": {},
   "source": [
    "## 1. Introduction/Business Problem\n",
    "\n",
    "![Seoul](seoul.jpg)\n",
    "\n",
    "My friend wants to open a lunch restaurant in Seoul. He asked me for help.\n",
    "\n",
    "I decided to help him by doing some analysis in the city of Seoul.\n",
    "I offer two options:\n",
    "+ Open a restaurant near major office buildings\n",
    "+ Open fast food restaurants near the transport stations\n",
    "\n",
    "Target Audiences:\n",
    "+ People who want to open a restaurant like my friend or maybe a cafe, they can see the pros and cons of the locations.\n",
    "+ Tourists looking for restaurants in Seoul.\n",
    "+ Someone wants to understand a piece of data science work."
   ]
  },
  {
   "cell_type": "markdown",
   "metadata": {},
   "source": [
    "## 2. Data\n",
    "\n",
    "I make use of https://en.wikipedia.org/wiki/List_of_districts_of_Seoul page to scrap the table to create a data-frame.\n",
    "\n",
    "After that, I get coordinates of districts by using Geopy Client and prepare data.\n",
    "\n",
    "I will first mark the locations of the districts with Foursquare and then give the next analysis."
   ]
  },
  {
   "cell_type": "markdown",
   "metadata": {},
   "source": [
    "**Using BeautifulSoup to find Table and saving them to file**\n",
    "\n",
    "**Dropping Korean Character in Table**"
   ]
  },
  {
   "cell_type": "code",
   "execution_count": 4,
   "metadata": {},
   "outputs": [
    {
     "data": {
      "text/html": [
       "<div>\n",
       "<style scoped>\n",
       "    .dataframe tbody tr th:only-of-type {\n",
       "        vertical-align: middle;\n",
       "    }\n",
       "\n",
       "    .dataframe tbody tr th {\n",
       "        vertical-align: top;\n",
       "    }\n",
       "\n",
       "    .dataframe thead th {\n",
       "        text-align: right;\n",
       "    }\n",
       "</style>\n",
       "<table border=\"1\" class=\"dataframe\">\n",
       "  <thead>\n",
       "    <tr style=\"text-align: right;\">\n",
       "      <th></th>\n",
       "      <th>Name</th>\n",
       "      <th>Population</th>\n",
       "      <th>Area</th>\n",
       "      <th>Population_density</th>\n",
       "    </tr>\n",
       "  </thead>\n",
       "  <tbody>\n",
       "    <tr>\n",
       "      <th>0</th>\n",
       "      <td>Dobong-gu (도봉구; 道峰區)</td>\n",
       "      <td>355,712</td>\n",
       "      <td>20.70 km²</td>\n",
       "      <td>17184/km²</td>\n",
       "    </tr>\n",
       "    <tr>\n",
       "      <th>1</th>\n",
       "      <td>Dongdaemun-gu (동대문구; 東大門區)</td>\n",
       "      <td>376,319</td>\n",
       "      <td>14.21 km²</td>\n",
       "      <td>26483/km²</td>\n",
       "    </tr>\n",
       "    <tr>\n",
       "      <th>2</th>\n",
       "      <td>Dongjak-gu (동작구; 銅雀區)</td>\n",
       "      <td>419,261</td>\n",
       "      <td>16.35 km²</td>\n",
       "      <td>25643/km²</td>\n",
       "    </tr>\n",
       "    <tr>\n",
       "      <th>3</th>\n",
       "      <td>Eunpyeong-gu (은평구; 恩平區)</td>\n",
       "      <td>503,243</td>\n",
       "      <td>29.70 km²</td>\n",
       "      <td>16944/km²</td>\n",
       "    </tr>\n",
       "    <tr>\n",
       "      <th>4</th>\n",
       "      <td>Gangbuk-gu (강북구; 江北區)</td>\n",
       "      <td>338,410</td>\n",
       "      <td>23.60 km²</td>\n",
       "      <td>14339/km²</td>\n",
       "    </tr>\n",
       "  </tbody>\n",
       "</table>\n",
       "</div>"
      ],
      "text/plain": [
       "                         Name Population       Area Population_density\n",
       "0        Dobong-gu (도봉구; 道峰區)    355,712  20.70 km²          17184/km²\n",
       "1  Dongdaemun-gu (동대문구; 東大門區)    376,319  14.21 km²          26483/km²\n",
       "2       Dongjak-gu (동작구; 銅雀區)    419,261  16.35 km²          25643/km²\n",
       "3     Eunpyeong-gu (은평구; 恩平區)    503,243  29.70 km²          16944/km²\n",
       "4       Gangbuk-gu (강북구; 江北區)    338,410  23.60 km²          14339/km²"
      ]
     },
     "execution_count": 4,
     "metadata": {},
     "output_type": "execute_result"
    }
   ],
   "source": [
    "import pandas as pd\n",
    "df = pd.read_csv('Seoul.csv')\n",
    "df.head()"
   ]
  },
  {
   "cell_type": "code",
   "execution_count": 5,
   "metadata": {},
   "outputs": [
    {
     "data": {
      "text/html": [
       "<div>\n",
       "<style scoped>\n",
       "    .dataframe tbody tr th:only-of-type {\n",
       "        vertical-align: middle;\n",
       "    }\n",
       "\n",
       "    .dataframe tbody tr th {\n",
       "        vertical-align: top;\n",
       "    }\n",
       "\n",
       "    .dataframe thead th {\n",
       "        text-align: right;\n",
       "    }\n",
       "</style>\n",
       "<table border=\"1\" class=\"dataframe\">\n",
       "  <thead>\n",
       "    <tr style=\"text-align: right;\">\n",
       "      <th></th>\n",
       "      <th>Name</th>\n",
       "      <th>Population</th>\n",
       "      <th>Area</th>\n",
       "      <th>Population_density</th>\n",
       "    </tr>\n",
       "  </thead>\n",
       "  <tbody>\n",
       "    <tr>\n",
       "      <th>0</th>\n",
       "      <td>Dobong-gu</td>\n",
       "      <td>355,712</td>\n",
       "      <td>20.70 km²</td>\n",
       "      <td>17184/km²</td>\n",
       "    </tr>\n",
       "    <tr>\n",
       "      <th>1</th>\n",
       "      <td>Dongdaemun-gu</td>\n",
       "      <td>376,319</td>\n",
       "      <td>14.21 km²</td>\n",
       "      <td>26483/km²</td>\n",
       "    </tr>\n",
       "    <tr>\n",
       "      <th>2</th>\n",
       "      <td>Dongjak-gu</td>\n",
       "      <td>419,261</td>\n",
       "      <td>16.35 km²</td>\n",
       "      <td>25643/km²</td>\n",
       "    </tr>\n",
       "    <tr>\n",
       "      <th>3</th>\n",
       "      <td>Eunpyeong-gu</td>\n",
       "      <td>503,243</td>\n",
       "      <td>29.70 km²</td>\n",
       "      <td>16944/km²</td>\n",
       "    </tr>\n",
       "    <tr>\n",
       "      <th>4</th>\n",
       "      <td>Gangbuk-gu</td>\n",
       "      <td>338,410</td>\n",
       "      <td>23.60 km²</td>\n",
       "      <td>14339/km²</td>\n",
       "    </tr>\n",
       "  </tbody>\n",
       "</table>\n",
       "</div>"
      ],
      "text/plain": [
       "            Name Population       Area Population_density\n",
       "0      Dobong-gu    355,712  20.70 km²          17184/km²\n",
       "1  Dongdaemun-gu    376,319  14.21 km²          26483/km²\n",
       "2     Dongjak-gu    419,261  16.35 km²          25643/km²\n",
       "3   Eunpyeong-gu    503,243  29.70 km²          16944/km²\n",
       "4     Gangbuk-gu    338,410  23.60 km²          14339/km²"
      ]
     },
     "execution_count": 5,
     "metadata": {},
     "output_type": "execute_result"
    }
   ],
   "source": [
    "df[['Name','Korean_language1', 'Korean_language2']] = df['Name'].str.split(' ',expand=True)\n",
    "df.drop(['Korean_language1'], axis=1, inplace=True)\n",
    "df.drop(['Korean_language2'], axis=1, inplace=True)\n",
    "df.head()"
   ]
  },
  {
   "cell_type": "markdown",
   "metadata": {},
   "source": [
    "**Getting coordinates of districts by using Geopy Client and saving**"
   ]
  },
  {
   "cell_type": "code",
   "execution_count": 6,
   "metadata": {},
   "outputs": [],
   "source": [
    "Latitude = []\n",
    "Longitude = []\n",
    "\n",
    "for i in df['Name']:\n",
    "    location = geolocator.geocode(i)\n",
    "    Latitude.append(location.latitude)\n",
    "    Longitude.append(location.longitude)\n",
    "    \n",
    "df['Latitude'] = Latitude\n",
    "df['Longitude'] = Longitude\n",
    "df.head()\n",
    "\n",
    "df.to_csv('Seoul_co.csv', index = False)"
   ]
  },
  {
   "cell_type": "code",
   "execution_count": 7,
   "metadata": {},
   "outputs": [],
   "source": [
    "df = pd.read_csv('Seoul_co.csv')"
   ]
  },
  {
   "cell_type": "markdown",
   "metadata": {},
   "source": [
    "**Using folium library to add districts to map:**"
   ]
  },
  {
   "cell_type": "markdown",
   "metadata": {},
   "source": [
    "![Map all Districts](mapalldistrict.PNG)"
   ]
  },
  {
   "cell_type": "markdown",
   "metadata": {},
   "source": [
    "## 3. Visualization and Data Exploration:\n",
    "\n",
    "### 3a. Open a restaurant near major office buildings\n",
    "\n",
    "After finding information on the internet about the places where have major office building, I found 5 locations: Gangnam-gu, Jung-gu, Seocho-gu, Yeongdeungpo-gu, Yongsan-gu."
   ]
  },
  {
   "cell_type": "code",
   "execution_count": 61,
   "metadata": {},
   "outputs": [
    {
     "data": {
      "text/html": [
       "<div>\n",
       "<style scoped>\n",
       "    .dataframe tbody tr th:only-of-type {\n",
       "        vertical-align: middle;\n",
       "    }\n",
       "\n",
       "    .dataframe tbody tr th {\n",
       "        vertical-align: top;\n",
       "    }\n",
       "\n",
       "    .dataframe thead th {\n",
       "        text-align: right;\n",
       "    }\n",
       "</style>\n",
       "<table border=\"1\" class=\"dataframe\">\n",
       "  <thead>\n",
       "    <tr style=\"text-align: right;\">\n",
       "      <th></th>\n",
       "      <th>Name</th>\n",
       "      <th>Population</th>\n",
       "      <th>Area</th>\n",
       "      <th>Population_density</th>\n",
       "      <th>Latitude</th>\n",
       "      <th>Longitude</th>\n",
       "    </tr>\n",
       "  </thead>\n",
       "  <tbody>\n",
       "    <tr>\n",
       "      <th>6</th>\n",
       "      <td>Gangnam-gu</td>\n",
       "      <td>583,446</td>\n",
       "      <td>39.50 km²</td>\n",
       "      <td>14771/km²</td>\n",
       "      <td>37.517700</td>\n",
       "      <td>127.04730</td>\n",
       "    </tr>\n",
       "    <tr>\n",
       "      <th>13</th>\n",
       "      <td>Jung-gu</td>\n",
       "      <td>136,227</td>\n",
       "      <td>9.96 km²</td>\n",
       "      <td>13677/km²</td>\n",
       "      <td>37.563656</td>\n",
       "      <td>126.99751</td>\n",
       "    </tr>\n",
       "    <tr>\n",
       "      <th>17</th>\n",
       "      <td>Seocho-gu</td>\n",
       "      <td>454,288</td>\n",
       "      <td>47.00 km²</td>\n",
       "      <td>9666/km²</td>\n",
       "      <td>37.483500</td>\n",
       "      <td>127.03220</td>\n",
       "    </tr>\n",
       "    <tr>\n",
       "      <th>23</th>\n",
       "      <td>Yeongdeungpo-gu</td>\n",
       "      <td>421,436</td>\n",
       "      <td>24.53 km²</td>\n",
       "      <td>17180/km²</td>\n",
       "      <td>37.526200</td>\n",
       "      <td>126.89590</td>\n",
       "    </tr>\n",
       "    <tr>\n",
       "      <th>24</th>\n",
       "      <td>Yongsan-gu</td>\n",
       "      <td>249,914</td>\n",
       "      <td>21.87 km²</td>\n",
       "      <td>11427/km²</td>\n",
       "      <td>37.532300</td>\n",
       "      <td>126.99000</td>\n",
       "    </tr>\n",
       "  </tbody>\n",
       "</table>\n",
       "</div>"
      ],
      "text/plain": [
       "               Name Population       Area Population_density   Latitude  \\\n",
       "6        Gangnam-gu    583,446  39.50 km²          14771/km²  37.517700   \n",
       "13          Jung-gu    136,227   9.96 km²          13677/km²  37.563656   \n",
       "17        Seocho-gu    454,288  47.00 km²           9666/km²  37.483500   \n",
       "23  Yeongdeungpo-gu    421,436  24.53 km²          17180/km²  37.526200   \n",
       "24       Yongsan-gu    249,914  21.87 km²          11427/km²  37.532300   \n",
       "\n",
       "    Longitude  \n",
       "6   127.04730  \n",
       "13  126.99751  \n",
       "17  127.03220  \n",
       "23  126.89590  \n",
       "24  126.99000  "
      ]
     },
     "execution_count": 61,
     "metadata": {},
     "output_type": "execute_result"
    }
   ],
   "source": [
    "Districs_list = ['Gangnam-gu', 'Jung-gu', 'Seocho-gu', 'Yeongdeungpo-gu', 'Yongsan-gu']\n",
    "Seoul_df_selected = df.loc[df['Name'].isin(Districs_list)]\n",
    "Seoul_df_selected"
   ]
  },
  {
   "cell_type": "markdown",
   "metadata": {},
   "source": [
    "![Map 5 districts](map5d.PNG)"
   ]
  },
  {
   "cell_type": "markdown",
   "metadata": {},
   "source": [
    "I make use of Foursquare API to obtain the most common venues in Food Category within 1 kilometer of each major district."
   ]
  },
  {
   "cell_type": "code",
   "execution_count": 19,
   "metadata": {},
   "outputs": [
    {
     "name": "stdout",
     "output_type": "stream",
     "text": [
      "Korean Restaurant                35\n",
      "BBQ Joint                        19\n",
      "Noodle House                     12\n",
      "Bakery                           12\n",
      "Café                             11\n",
      "Chinese Restaurant                8\n",
      "Fried Chicken Joint               5\n",
      "Pizza Place                       5\n",
      "Seafood Restaurant                5\n",
      "Dumpling Restaurant               4\n",
      "Vietnamese Restaurant             4\n",
      "Burger Joint                      3\n",
      "Breakfast Spot                    3\n",
      "Fast Food Restaurant              3\n",
      "Mexican Restaurant                3\n",
      "Udon Restaurant                   2\n",
      "Indian Restaurant                 2\n",
      "Thai Restaurant                   2\n",
      "Restaurant                        2\n",
      "Italian Restaurant                2\n",
      "Cantonese Restaurant              2\n",
      "Sushi Restaurant                  2\n",
      "Bunsik Restaurant                 2\n",
      "Modern European Restaurant        2\n",
      "German Restaurant                 2\n",
      "Japanese Restaurant               2\n",
      "Bistro                            1\n",
      "Dim Sum Restaurant                1\n",
      "New American Restaurant           1\n",
      "Steakhouse                        1\n",
      "Middle Eastern Restaurant         1\n",
      "Wings Joint                       1\n",
      "Kebab Restaurant                  1\n",
      "Tapas Restaurant                  1\n",
      "Hot Dog Joint                     1\n",
      "Vegetarian / Vegan Restaurant     1\n",
      "Diner                             1\n",
      "American Restaurant               1\n",
      "Salad Place                       1\n",
      "Caribbean Restaurant              1\n",
      "Greek Restaurant                  1\n",
      "Samgyetang Restaurant             1\n",
      "Food Court                        1\n",
      "Spanish Restaurant                1\n",
      "Donut Shop                        1\n",
      "Turkish Restaurant                1\n",
      "Sandwich Place                    1\n",
      "Brazilian Restaurant              1\n",
      "Taco Place                        1\n",
      "French Restaurant                 1\n",
      "African Restaurant                1\n",
      "Snack Place                       1\n",
      "Bagel Shop                        1\n",
      "Name: Venue Category, dtype: int64\n"
     ]
    }
   ],
   "source": [
    "print (Seoul_5_district_venues['Venue Category'].value_counts())"
   ]
  },
  {
   "cell_type": "markdown",
   "metadata": {},
   "source": [
    "![map restaurant](mapres.PNG)"
   ]
  },
  {
   "cell_type": "markdown",
   "metadata": {},
   "source": [
    "I list top 10 restaurant in 5 district to find what kind of food is most favourite."
   ]
  },
  {
   "cell_type": "code",
   "execution_count": 20,
   "metadata": {},
   "outputs": [
    {
     "data": {
      "text/html": [
       "<div>\n",
       "<style scoped>\n",
       "    .dataframe tbody tr th:only-of-type {\n",
       "        vertical-align: middle;\n",
       "    }\n",
       "\n",
       "    .dataframe tbody tr th {\n",
       "        vertical-align: top;\n",
       "    }\n",
       "\n",
       "    .dataframe thead th {\n",
       "        text-align: right;\n",
       "    }\n",
       "</style>\n",
       "<table border=\"1\" class=\"dataframe\">\n",
       "  <thead>\n",
       "    <tr style=\"text-align: right;\">\n",
       "      <th></th>\n",
       "      <th>Venue_Category</th>\n",
       "      <th>Frequency</th>\n",
       "    </tr>\n",
       "  </thead>\n",
       "  <tbody>\n",
       "    <tr>\n",
       "      <th>0</th>\n",
       "      <td>Korean Restaurant</td>\n",
       "      <td>35</td>\n",
       "    </tr>\n",
       "    <tr>\n",
       "      <th>1</th>\n",
       "      <td>BBQ Joint</td>\n",
       "      <td>19</td>\n",
       "    </tr>\n",
       "    <tr>\n",
       "      <th>2</th>\n",
       "      <td>Noodle House</td>\n",
       "      <td>12</td>\n",
       "    </tr>\n",
       "    <tr>\n",
       "      <th>3</th>\n",
       "      <td>Bakery</td>\n",
       "      <td>12</td>\n",
       "    </tr>\n",
       "    <tr>\n",
       "      <th>4</th>\n",
       "      <td>Café</td>\n",
       "      <td>11</td>\n",
       "    </tr>\n",
       "    <tr>\n",
       "      <th>5</th>\n",
       "      <td>Chinese Restaurant</td>\n",
       "      <td>8</td>\n",
       "    </tr>\n",
       "    <tr>\n",
       "      <th>6</th>\n",
       "      <td>Fried Chicken Joint</td>\n",
       "      <td>5</td>\n",
       "    </tr>\n",
       "    <tr>\n",
       "      <th>7</th>\n",
       "      <td>Pizza Place</td>\n",
       "      <td>5</td>\n",
       "    </tr>\n",
       "    <tr>\n",
       "      <th>8</th>\n",
       "      <td>Seafood Restaurant</td>\n",
       "      <td>5</td>\n",
       "    </tr>\n",
       "    <tr>\n",
       "      <th>9</th>\n",
       "      <td>Dumpling Restaurant</td>\n",
       "      <td>4</td>\n",
       "    </tr>\n",
       "  </tbody>\n",
       "</table>\n",
       "</div>"
      ],
      "text/plain": [
       "        Venue_Category  Frequency\n",
       "0    Korean Restaurant         35\n",
       "1            BBQ Joint         19\n",
       "2         Noodle House         12\n",
       "3               Bakery         12\n",
       "4                 Café         11\n",
       "5   Chinese Restaurant          8\n",
       "6  Fried Chicken Joint          5\n",
       "7          Pizza Place          5\n",
       "8   Seafood Restaurant          5\n",
       "9  Dumpling Restaurant          4"
      ]
     },
     "execution_count": 20,
     "metadata": {},
     "output_type": "execute_result"
    }
   ],
   "source": [
    "Seoul_5d_restaurant_Top10 = Seoul_5_district_venues['Venue Category'].value_counts()[0:10].to_frame(name='frequency')\n",
    "Seoul_5d_restaurant_Top10 = Seoul_5d_restaurant_Top10.reset_index()\n",
    "\n",
    "Seoul_5d_restaurant_Top10.rename(index=str, columns={\"index\": \"Venue_Category\", \"frequency\": \"Frequency\"}, inplace=True)\n",
    "Seoul_5d_restaurant_Top10"
   ]
  },
  {
   "cell_type": "markdown",
   "metadata": {},
   "source": [
    "![Most restaurant](Most_restaurant.png)"
   ]
  },
  {
   "cell_type": "markdown",
   "metadata": {},
   "source": [
    "I also find the number of restaurant in each district."
   ]
  },
  {
   "cell_type": "markdown",
   "metadata": {},
   "source": [
    "![Number of restaurant in 5 Districts of Seoul](Most_restaurant_in_5_Districts.png)"
   ]
  },
  {
   "cell_type": "markdown",
   "metadata": {},
   "source": [
    "I also explored how most common restaurant in each district"
   ]
  },
  {
   "cell_type": "code",
   "execution_count": 24,
   "metadata": {},
   "outputs": [
    {
     "name": "stdout",
     "output_type": "stream",
     "text": [
      "----Gangnam-gu----\n",
      "                        venue  freq\n",
      "0           Korean Restaurant  0.20\n",
      "1                      Bakery  0.16\n",
      "2          Chinese Restaurant  0.12\n",
      "3                Noodle House  0.12\n",
      "4  Modern European Restaurant  0.08\n",
      "\n",
      "\n",
      "----Jung-gu----\n",
      "                 venue  freq\n",
      "0    Korean Restaurant  0.34\n",
      "1         Noodle House  0.15\n",
      "2               Bakery  0.12\n",
      "3  Fried Chicken Joint  0.05\n",
      "4   Italian Restaurant  0.05\n",
      "\n",
      "\n",
      "----Seocho-gu----\n",
      "                venue  freq\n",
      "0           BBQ Joint  0.22\n",
      "1   Korean Restaurant  0.22\n",
      "2  Seafood Restaurant  0.11\n",
      "3  Chinese Restaurant  0.07\n",
      "4        Burger Joint  0.04\n",
      "\n",
      "\n",
      "----Yeongdeungpo-gu----\n",
      "               venue  freq\n",
      "0          BBQ Joint   0.3\n",
      "1  Korean Restaurant   0.2\n",
      "2         Food Court   0.1\n",
      "3               Café   0.1\n",
      "4         Bagel Shop   0.1\n",
      "\n",
      "\n",
      "----Yongsan-gu----\n",
      "                   venue  freq\n",
      "0              BBQ Joint  0.10\n",
      "1      Korean Restaurant  0.10\n",
      "2                   Café  0.10\n",
      "3    Dumpling Restaurant  0.05\n",
      "4  Vietnamese Restaurant  0.04\n",
      "\n",
      "\n"
     ]
    }
   ],
   "source": [
    "num_top_venues = 5\n",
    "\n",
    "for hood in Seoul_grouped['Neighbourhood']:\n",
    "    print(\"----\"+hood+\"----\")\n",
    "    temp = Seoul_grouped[Seoul_grouped['Neighbourhood'] == hood].T.reset_index()\n",
    "    temp.columns = ['venue','freq']\n",
    "    temp = temp.iloc[1:]\n",
    "    temp['freq'] = temp['freq'].astype(float)\n",
    "    temp = temp.round({'freq': 2})\n",
    "    print(temp.sort_values('freq', ascending=False).reset_index(drop=True).head(num_top_venues))\n",
    "    print('\\n')"
   ]
  },
  {
   "cell_type": "markdown",
   "metadata": {},
   "source": [
    "## Clustering the Major Districts of Seoul"
   ]
  },
  {
   "cell_type": "markdown",
   "metadata": {},
   "source": [
    "Finally, I try to cluster these 5 districts based on the frequency of restaurant venue categories and, use K-Means clustering.  Using K-Means algorithm rom Scikit-learn library I obtain 2 clusters as shown below.\n",
    "\n",
    "![map clustering](mapclu.PNG)\n",
    "\n",
    "From the most common venues this clustering makes:\n",
    "- Seocho-gu, Yeongdeungpo-gu and Yongsan-gu are dominated by BBQ Joint, Korean Restaurant (Red cluster)\n",
    "- Gangnam-gu, Jung-gu dominated by Korean Restaurant, Bakery and Noodle House (purple cluster)."
   ]
  },
  {
   "cell_type": "markdown",
   "metadata": {},
   "source": [
    "## 3b. Open fast food restaurants near the transport stations"
   ]
  },
  {
   "cell_type": "markdown",
   "metadata": {},
   "source": [
    "**In this report, I only focus on Bus Stop and Bus Station**"
   ]
  },
  {
   "cell_type": "code",
   "execution_count": 71,
   "metadata": {
    "scrolled": false
   },
   "outputs": [
    {
     "name": "stdout",
     "output_type": "stream",
     "text": [
      "Seocho-gu          16\n",
      "Gwanak-gu          11\n",
      "Yongsan-gu         10\n",
      "Dongjak-gu          9\n",
      "Gangnam-gu          9\n",
      "Seongbuk-gu         8\n",
      "Seongdong-gu        7\n",
      "Songpa-gu           6\n",
      "Jung-gu             6\n",
      "Gangdong-gu         6\n",
      "Gangbuk-gu          6\n",
      "Gwangjin-gu         5\n",
      "Dongdaemun-gu       4\n",
      "Nowon-gu            4\n",
      "Eunpyeong-gu        4\n",
      "Jongno-gu           3\n",
      "Jungnang-gu         2\n",
      "Seodaemun-gu        2\n",
      "Mapo-gu             2\n",
      "Yeongdeungpo-gu     2\n",
      "Geumcheon-gu        2\n",
      "Gangseo-gu          1\n",
      "Yangcheon-gu        1\n",
      "Name: Neighbourhood, dtype: int64\n"
     ]
    }
   ],
   "source": [
    "Seoul_transport = Seoul_transport[Seoul_transport['Venue Category'].str.contains('Bus')]\n",
    "print(Seoul_transport['Neighbourhood'].value_counts())"
   ]
  },
  {
   "cell_type": "markdown",
   "metadata": {},
   "source": [
    "**I find the area have the most Bus stop.**\n",
    "\n",
    "![Most bus](Most_bus.png)"
   ]
  },
  {
   "cell_type": "markdown",
   "metadata": {
    "scrolled": true
   },
   "source": [
    "**I mark all bus stop in top area have highest number of bus stop**\n",
    "\n",
    "![Map bus](mapbus.png)\n",
    "\n",
    "I decide to stop since using Kmean doesn't have many benefits in here."
   ]
  },
  {
   "cell_type": "markdown",
   "metadata": {},
   "source": [
    "## 4. Results\n",
    "The resutls of the exploratory data analysis and clustering are summarized below\n",
    "### a. Open a restaurant near major office buildings\n",
    "- Korean restaurants top the charts of most common venues in the 5 districts. \n",
    "- Seocho-gu, Yeongdeungpo-gu and Yongsan-gu are dominated by BBQ Joint, Korean Restaurant.\n",
    "- Gangnam-gu, Jung-gu dominated by Korean Restaurant, Bakery and Noodle House.\n",
    "- Yongsan-guhas maximum number of restaurants as the most common venue whereas has Yeongdeungpo-gu area has the least.\n",
    "\n",
    "### b. Open fast food restaurants near the transport stations\n",
    "- Seocho-gu has the highest number of bus stop whereas Gangnam-gu has the least.\n",
    "\n",
    "#### In my opinion, I will advice my friend to open a restaurant in Seocho-gu districts since It doesn't have too much restaurant, he can avoid the competition. However it has the highest number of bus stop and maybe many people will come here."
   ]
  },
  {
   "cell_type": "markdown",
   "metadata": {},
   "source": [
    "## 5. Disscusion\n",
    "Drawback of this analysis are-- the clustering is completely based on the most common venues obtained from Foursquare data."
   ]
  },
  {
   "cell_type": "markdown",
   "metadata": {},
   "source": [
    "## 6. Conclusion\n",
    "\n",
    "I have made use of \n",
    "- scrap web-data, \n",
    "- use Foursquare API to explore the map \n",
    "- show the results by using Folium leaflet map.\n",
    "\n",
    "I also have some information if someone ask me to help them to open a restaurant in Seoul or another city."
   ]
  },
  {
   "cell_type": "code",
   "execution_count": null,
   "metadata": {},
   "outputs": [],
   "source": []
  }
 ],
 "metadata": {
  "kernelspec": {
   "display_name": "Python 3",
   "language": "python",
   "name": "python3"
  },
  "language_info": {
   "codemirror_mode": {
    "name": "ipython",
    "version": 3
   },
   "file_extension": ".py",
   "mimetype": "text/x-python",
   "name": "python",
   "nbconvert_exporter": "python",
   "pygments_lexer": "ipython3",
   "version": "3.7.4"
  }
 },
 "nbformat": 4,
 "nbformat_minor": 2
}
